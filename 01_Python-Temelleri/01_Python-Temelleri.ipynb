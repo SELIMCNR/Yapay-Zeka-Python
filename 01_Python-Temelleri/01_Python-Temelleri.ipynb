{
 "cells": [
  {
   "cell_type": "code",
   "execution_count": 3,
   "metadata": {},
   "outputs": [
    {
     "name": "stdout",
     "output_type": "stream",
     "text": [
      "Integer (int) :  <class 'int'>\n",
      "Float (float):  <class 'float'>\n",
      "String (str):  <class 'str'>\n",
      "Boolean(bool): <class 'bool'>\n"
     ]
    }
   ],
   "source": [
    "#Temel Veri Tipleri\n",
    "print(\"Integer (int) : \",type(15))\n",
    "print(\"Float (float): \",type(1.5))\n",
    "print(\"String (str): \",type(\"1\"))\n",
    "print(\"Boolean(bool):\",type(True))"
   ]
  },
  {
   "cell_type": "code",
   "execution_count": 4,
   "metadata": {},
   "outputs": [
    {
     "data": {
      "text/plain": [
       "6"
      ]
     },
     "execution_count": 4,
     "metadata": {},
     "output_type": "execute_result"
    }
   ],
   "source": [
    "2 * 3"
   ]
  },
  {
   "cell_type": "code",
   "execution_count": 8,
   "metadata": {},
   "outputs": [],
   "source": [
    "#\"2\" *\"3\" # hata verir"
   ]
  },
  {
   "cell_type": "code",
   "execution_count": 9,
   "metadata": {},
   "outputs": [
    {
     "data": {
      "text/plain": [
       "'23'"
      ]
     },
     "execution_count": 9,
     "metadata": {},
     "output_type": "execute_result"
    }
   ],
   "source": [
    "\"2\" + \"3\""
   ]
  },
  {
   "cell_type": "code",
   "execution_count": 10,
   "metadata": {},
   "outputs": [
    {
     "data": {
      "text/plain": [
       "'222'"
      ]
     },
     "execution_count": 10,
     "metadata": {},
     "output_type": "execute_result"
    }
   ],
   "source": [
    "\"2\" * 3"
   ]
  },
  {
   "cell_type": "code",
   "execution_count": 12,
   "metadata": {},
   "outputs": [],
   "source": [
    "a= 2 + 3 "
   ]
  },
  {
   "cell_type": "code",
   "execution_count": 13,
   "metadata": {},
   "outputs": [
    {
     "data": {
      "text/plain": [
       "5"
      ]
     },
     "execution_count": 13,
     "metadata": {},
     "output_type": "execute_result"
    }
   ],
   "source": [
    "a"
   ]
  },
  {
   "attachments": {},
   "cell_type": "markdown",
   "metadata": {},
   "source": [
    "Listeler (Lists)"
   ]
  },
  {
   "cell_type": "code",
   "execution_count": 11,
   "metadata": {},
   "outputs": [],
   "source": [
    "example_List = [1,[2,3,4],3,4,5,6,7,8]"
   ]
  },
  {
   "cell_type": "code",
   "execution_count": 14,
   "metadata": {},
   "outputs": [
    {
     "name": "stdout",
     "output_type": "stream",
     "text": [
      "[1, [2, 3, 4], 3, 4, 5, 6, 7, 8]\n"
     ]
    }
   ],
   "source": [
    "print(example_List)"
   ]
  },
  {
   "cell_type": "code",
   "execution_count": 16,
   "metadata": {},
   "outputs": [
    {
     "data": {
      "text/plain": [
       "list"
      ]
     },
     "execution_count": 16,
     "metadata": {},
     "output_type": "execute_result"
    }
   ],
   "source": [
    "type(example_List)"
   ]
  },
  {
   "cell_type": "code",
   "execution_count": 17,
   "metadata": {},
   "outputs": [
    {
     "data": {
      "text/plain": [
       "8"
      ]
     },
     "execution_count": 17,
     "metadata": {},
     "output_type": "execute_result"
    }
   ],
   "source": [
    "len(example_List) #len fonksiyonu kaç eleman olduğu "
   ]
  },
  {
   "cell_type": "code",
   "execution_count": 18,
   "metadata": {},
   "outputs": [
    {
     "name": "stdout",
     "output_type": "stream",
     "text": [
      "[2, 3, 4]\n"
     ]
    }
   ],
   "source": [
    "print(example_List[1])"
   ]
  },
  {
   "cell_type": "code",
   "execution_count": 20,
   "metadata": {},
   "outputs": [
    {
     "name": "stdout",
     "output_type": "stream",
     "text": [
      "3\n"
     ]
    }
   ],
   "source": [
    "print(example_List[2]) #Pythonda liste yapıları 0'dan başlar"
   ]
  },
  {
   "attachments": {},
   "cell_type": "markdown",
   "metadata": {},
   "source": [
    "Slicing Yapısı \n",
    "değişken_simi=[başla:bitiş:atlama-sayısı]"
   ]
  },
  {
   "cell_type": "code",
   "execution_count": 21,
   "metadata": {},
   "outputs": [
    {
     "name": "stdout",
     "output_type": "stream",
     "text": [
      "[[2, 3, 4], 3, 4]\n"
     ]
    }
   ],
   "source": [
    "print(example_List[1:4])"
   ]
  },
  {
   "cell_type": "code",
   "execution_count": 24,
   "metadata": {},
   "outputs": [
    {
     "name": "stdout",
     "output_type": "stream",
     "text": [
      "[7, 8]\n"
     ]
    }
   ],
   "source": [
    "print(example_List[-2:]) #sondan iki eleman"
   ]
  },
  {
   "cell_type": "code",
   "execution_count": 25,
   "metadata": {},
   "outputs": [
    {
     "name": "stdout",
     "output_type": "stream",
     "text": [
      "8\n"
     ]
    }
   ],
   "source": [
    "print(example_List[-1])"
   ]
  },
  {
   "cell_type": "code",
   "execution_count": 26,
   "metadata": {},
   "outputs": [],
   "source": [
    "example_List[0] = \"Different Now\" #listeye değer atama"
   ]
  },
  {
   "cell_type": "code",
   "execution_count": 27,
   "metadata": {},
   "outputs": [
    {
     "data": {
      "text/plain": [
       "['Different Now', [2, 3, 4], 3, 4, 5, 6, 7, 8]"
      ]
     },
     "execution_count": 27,
     "metadata": {},
     "output_type": "execute_result"
    }
   ],
   "source": [
    "example_List"
   ]
  },
  {
   "cell_type": "code",
   "execution_count": 28,
   "metadata": {},
   "outputs": [],
   "source": [
    "example_List.append(2) #listeye ekleme yapma"
   ]
  },
  {
   "cell_type": "code",
   "execution_count": 29,
   "metadata": {},
   "outputs": [],
   "source": [
    "example_List.insert(1,\"New data\") #1.indexe ekle"
   ]
  },
  {
   "cell_type": "code",
   "execution_count": 30,
   "metadata": {},
   "outputs": [
    {
     "data": {
      "text/plain": [
       "['Different Now', 'New data', [2, 3, 4], 3, 4, 5, 6, 7, 8, 2]"
      ]
     },
     "execution_count": 30,
     "metadata": {},
     "output_type": "execute_result"
    }
   ],
   "source": [
    "example_List"
   ]
  },
  {
   "cell_type": "code",
   "execution_count": 33,
   "metadata": {},
   "outputs": [
    {
     "name": "stdout",
     "output_type": "stream",
     "text": [
      "['Different Now', 'New data', [2, 3, 4], 3, 5, 6, 7, 8]\n"
     ]
    }
   ],
   "source": [
    "example_List.remove(4) #listeden 4 elemanını çıkarır.\n",
    "print(example_List)"
   ]
  },
  {
   "attachments": {},
   "cell_type": "markdown",
   "metadata": {},
   "source": [
    "Sözlükler (Dictionaries)  : Key - value şeklinde anahtar değer şeklinde"
   ]
  },
  {
   "cell_type": "code",
   "execution_count": 35,
   "metadata": {},
   "outputs": [],
   "source": [
    "new_dictionary = {\"key_for_this_thing\":8}"
   ]
  },
  {
   "cell_type": "code",
   "execution_count": 36,
   "metadata": {},
   "outputs": [
    {
     "name": "stdout",
     "output_type": "stream",
     "text": [
      "8\n"
     ]
    }
   ],
   "source": [
    "print(new_dictionary['key_for_this_thing'])"
   ]
  },
  {
   "cell_type": "code",
   "execution_count": 37,
   "metadata": {},
   "outputs": [],
   "source": [
    "new_dictionary = {'key_for_a_list': [0,1,2,3,4],'key_for_another_dictionary': {'bob':1}}"
   ]
  },
  {
   "cell_type": "code",
   "execution_count": 38,
   "metadata": {},
   "outputs": [
    {
     "name": "stdout",
     "output_type": "stream",
     "text": [
      "{'bob': 1}\n"
     ]
    }
   ],
   "source": [
    "print(new_dictionary['key_for_another_dictionary'])"
   ]
  },
  {
   "cell_type": "code",
   "execution_count": 39,
   "metadata": {},
   "outputs": [
    {
     "name": "stdout",
     "output_type": "stream",
     "text": [
      "1\n"
     ]
    }
   ],
   "source": [
    "print(new_dictionary['key_for_another_dictionary']['bob'])"
   ]
  },
  {
   "cell_type": "code",
   "execution_count": 40,
   "metadata": {},
   "outputs": [],
   "source": [
    "career_stats ={'babe_ruth': {1914:[\"Red sox\",5,10,0],1915:[\"Red sox\",43,104,4]} ,\n",
    "               'gavy_cravath':{1914: ['Phillies',149,604,14]}\n",
    "               }"
   ]
  },
  {
   "cell_type": "code",
   "execution_count": 41,
   "metadata": {},
   "outputs": [
    {
     "name": "stdout",
     "output_type": "stream",
     "text": [
      "{1914: ['Red sox', 5, 10, 0], 1915: ['Red sox', 43, 104, 4]}\n"
     ]
    }
   ],
   "source": [
    "print(career_stats['babe_ruth'])"
   ]
  },
  {
   "cell_type": "code",
   "execution_count": 42,
   "metadata": {},
   "outputs": [
    {
     "name": "stdout",
     "output_type": "stream",
     "text": [
      "['Red sox', 5, 10, 0]\n"
     ]
    }
   ],
   "source": [
    "print(career_stats['babe_ruth'][1914])"
   ]
  },
  {
   "cell_type": "code",
   "execution_count": 44,
   "metadata": {},
   "outputs": [
    {
     "name": "stdout",
     "output_type": "stream",
     "text": [
      "dict_keys(['babe_ruth', 'gavy_cravath'])\n",
      "dict_values([{1914: ['Red sox', 5, 10, 0], 1915: ['Red sox', 43, 104, 4]}, {1914: ['Phillies', 149, 604, 14]}])\n"
     ]
    }
   ],
   "source": [
    "#ek olarak sadece key ve value değerlerine de ulaşılır.\n",
    "print(career_stats.keys())\n",
    "print(career_stats.values())"
   ]
  },
  {
   "attachments": {},
   "cell_type": "markdown",
   "metadata": {},
   "source": [
    "Değişken İsimleri   bazı örnekler"
   ]
  },
  {
   "cell_type": "code",
   "execution_count": 45,
   "metadata": {},
   "outputs": [],
   "source": [
    "customer_Orde=1\n",
    "customerOrders=50\n",
    "customerSaleas=\"adss\""
   ]
  },
  {
   "attachments": {},
   "cell_type": "markdown",
   "metadata": {},
   "source": [
    "Koşullu İfadeler (İf / Elif / Else)"
   ]
  },
  {
   "cell_type": "code",
   "execution_count": 1,
   "metadata": {},
   "outputs": [
    {
     "name": "stdout",
     "output_type": "stream",
     "text": [
      "3 is not bigger\n"
     ]
    }
   ],
   "source": [
    "if 3 > 4:\n",
    "    print(\"3 is bigger\")\n",
    "print(\"3 is not bigger\")"
   ]
  },
  {
   "cell_type": "code",
   "execution_count": 2,
   "metadata": {},
   "outputs": [
    {
     "name": "stdout",
     "output_type": "stream",
     "text": [
      "10 is smaller than 12\n",
      "10 is smaller than 25\n"
     ]
    }
   ],
   "source": [
    "number = 10\n",
    "if number < 5:\n",
    "    print(number, 'is smaller than 5')\n",
    "if number < 12:\n",
    "    print(number, 'is smaller than 12')\n",
    "if number < 25:\n",
    "    print(number, 'is smaller than 25')"
   ]
  },
  {
   "cell_type": "code",
   "execution_count": 3,
   "metadata": {},
   "outputs": [
    {
     "name": "stdout",
     "output_type": "stream",
     "text": [
      "10 is smaller than 12\n"
     ]
    }
   ],
   "source": [
    "number = 10\n",
    "if number < 5:\n",
    "    print(number, 'is smaller than 5')\n",
    "elif number < 12:\n",
    "    print(number, 'is smaller than 12')\n",
    "elif number < 25:\n",
    "    print(number, 'is smaller than 25')"
   ]
  },
  {
   "cell_type": "code",
   "execution_count": 4,
   "metadata": {},
   "outputs": [
    {
     "name": "stdout",
     "output_type": "stream",
     "text": [
      "a is bigger than b AND b is bigger than c\n"
     ]
    }
   ],
   "source": [
    "# 2'den fazla koşul belirtmek de mümkündür\n",
    "a = 30\n",
    "b = 20 \n",
    "c = 10\n",
    "if a < b or b > c:\n",
    "    print(\"a is bigger than b AND b is bigger than c\")\n",
    "elif a < b or b < c:\n",
    "    print(\"a is smaller than b AND b is smaller than c\")\n",
    "else:\n",
    "    print(\"These conditions did not hold\")"
   ]
  },
  {
   "cell_type": "code",
   "execution_count": 5,
   "metadata": {},
   "outputs": [],
   "source": [
    "number_list = [10,20,30,40,50]\n",
    "if 60 in number_list:\n",
    "    print(\"Yes!\")"
   ]
  },
  {
   "attachments": {},
   "cell_type": "markdown",
   "metadata": {},
   "source": [
    "Döngüler (For / While)"
   ]
  },
  {
   "cell_type": "code",
   "execution_count": 6,
   "metadata": {},
   "outputs": [
    {
     "name": "stdout",
     "output_type": "stream",
     "text": [
      "16.666666666666668\n",
      "33.333333333333336\n",
      "50.0\n",
      "66.66666666666667\n",
      "83.33333333333333\n"
     ]
    }
   ],
   "source": [
    "for number in number_list:\n",
    "    new_number = number * 5 / 3\n",
    "    print(new_number)"
   ]
  },
  {
   "cell_type": "code",
   "execution_count": 7,
   "metadata": {},
   "outputs": [
    {
     "name": "stdout",
     "output_type": "stream",
     "text": [
      "0\n",
      "1\n",
      "2\n",
      "3\n",
      "4\n",
      "5\n",
      "6\n",
      "7\n",
      "8\n",
      "9\n"
     ]
    }
   ],
   "source": [
    "x = 0\n",
    "while x < 10:\n",
    "    print(x)\n",
    "    x += 1"
   ]
  },
  {
   "attachments": {},
   "cell_type": "markdown",
   "metadata": {},
   "source": [
    "Fonksiyonlar"
   ]
  },
  {
   "cell_type": "code",
   "execution_count": 8,
   "metadata": {},
   "outputs": [
    {
     "name": "stdout",
     "output_type": "stream",
     "text": [
      "{'Sam': 3, 'Carol': 2, 'Doug': 2, 'Oliver': 1, 'Tari': 2}\n"
     ]
    }
   ],
   "source": [
    "table1 = [['Sam', 36, 85.95],\n",
    " ['Carol', 75, 53.65],\n",
    " ['Sam', 90, 95.37],\n",
    " ['Doug', 61, 19.8],\n",
    " ['Sam', 41, 45.22],\n",
    " ['Doug', 29, 42.98],\n",
    " ['Oliver', 61, 95.74],\n",
    " ['Carol', 32, 17.12],\n",
    " ['Tari', 27, 68.83],\n",
    " ['Tari', 81, 62.47]]\n",
    "\n",
    "name_counter = {}\n",
    "for row in table1:\n",
    "    name = row[0]\n",
    "    if name in name_counter.keys():\n",
    "        name_counter[name] += 1\n",
    "    else:\n",
    "        name_counter[name] = 1\n",
    "print(name_counter)"
   ]
  },
  {
   "cell_type": "code",
   "execution_count": 10,
   "metadata": {},
   "outputs": [],
   "source": [
    "def count_names_in_tables(table_to_count):\n",
    "    \"\"\"\n",
    "    İlk sütunu kullanıcının adından oluşacak şekilde, bir tablo verisi alır\n",
    "    ve her bir kullanıcının tabloda kaç defa geçtiğini bulur.\n",
    "    ---\n",
    "    Girdi: Tablo (bir çok listeden oluşan bir liste)\n",
    "    Çıktı: Sözlük (İsimler key değerleri, kaç defa geçtikleri value değerleri)\n",
    "    \"\"\"\n",
    "    name_counter = {}\n",
    "    for row in table_to_count:\n",
    "        name = row[0]\n",
    "        if name in name_counter.keys():\n",
    "            name_counter[name] += 1\n",
    "        else:\n",
    "            name_counter[name] = 1\n",
    "    return name_counter"
   ]
  },
  {
   "cell_type": "code",
   "execution_count": 11,
   "metadata": {},
   "outputs": [
    {
     "name": "stdout",
     "output_type": "stream",
     "text": [
      "{'Sam': 3, 'Carol': 2, 'Doug': 2, 'Oliver': 1, 'Tari': 2}\n"
     ]
    }
   ],
   "source": [
    "print(count_names_in_tables(table1))"
   ]
  },
  {
   "cell_type": "code",
   "execution_count": 12,
   "metadata": {},
   "outputs": [
    {
     "name": "stdout",
     "output_type": "stream",
     "text": [
      "{'Oliver': 1, 'Tari': 3, 'Carol': 4, 'Kelly': 1, 'Sam': 1}\n"
     ]
    }
   ],
   "source": [
    "table2 = [['Oliver', 12, 49.95],\n",
    " ['Tari', 76, 30.71],\n",
    " ['Carol', 98, 25.07],\n",
    " ['Carol', 24, 11.85],\n",
    " ['Carol', 34, 13.36],\n",
    " ['Kelly', 14, 34.31],\n",
    " ['Tari', 6, 86.11],\n",
    " ['Tari', 90, 29.08],\n",
    " ['Carol', 55, 45.61],\n",
    " ['Sam', 88, 97.47]]\n",
    "\n",
    "print(count_names_in_tables(table2))"
   ]
  },
  {
   "attachments": {},
   "cell_type": "markdown",
   "metadata": {},
   "source": [
    "Belge Dizini Yapıları"
   ]
  },
  {
   "cell_type": "code",
   "execution_count": 13,
   "metadata": {},
   "outputs": [],
   "source": [
    "def multiply_by_two(number):\n",
    "    \"\"\"\n",
    "    Bu fonksiyon girdi olarak girilen değeri 2'yle çarpar\n",
    "    ---\n",
    "    Girdi: Sayısal\n",
    "    Çıktı: Sayısal\n",
    "    \"\"\"\n",
    "    return 2*number"
   ]
  },
  {
   "cell_type": "code",
   "execution_count": 14,
   "metadata": {},
   "outputs": [
    {
     "data": {
      "text/plain": [
       "8"
      ]
     },
     "execution_count": 14,
     "metadata": {},
     "output_type": "execute_result"
    }
   ],
   "source": [
    "multiply_by_two(4)"
   ]
  },
  {
   "cell_type": "code",
   "execution_count": 15,
   "metadata": {},
   "outputs": [
    {
     "data": {
      "text/plain": [
       "'44'"
      ]
     },
     "execution_count": 15,
     "metadata": {},
     "output_type": "execute_result"
    }
   ],
   "source": [
    "multiply_by_two(\"4\")"
   ]
  },
  {
   "cell_type": "code",
   "execution_count": 16,
   "metadata": {},
   "outputs": [
    {
     "name": "stdout",
     "output_type": "stream",
     "text": [
      "0 ['Sam', 36, 85.95] ['Sam', 36, 85.95]\n",
      "1 ['Carol', 75, 53.65] ['Carol', 75, 53.65]\n",
      "2 ['Sam', 90, 95.37] ['Sam', 90, 95.37]\n",
      "3 ['Doug', 61, 19.8] ['Doug', 61, 19.8]\n",
      "4 ['Sam', 41, 45.22] ['Sam', 41, 45.22]\n",
      "5 ['Doug', 29, 42.98] ['Doug', 29, 42.98]\n",
      "6 ['Oliver', 61, 95.74] ['Oliver', 61, 95.74]\n",
      "7 ['Carol', 32, 17.12] ['Carol', 32, 17.12]\n",
      "8 ['Tari', 27, 68.83] ['Tari', 27, 68.83]\n",
      "9 ['Tari', 81, 62.47] ['Tari', 81, 62.47]\n"
     ]
    }
   ],
   "source": [
    "for ix, row in enumerate(table1):\n",
    "    print(ix, row, table1[ix])"
   ]
  },
  {
   "cell_type": "code",
   "execution_count": 17,
   "metadata": {},
   "outputs": [
    {
     "name": "stdout",
     "output_type": "stream",
     "text": [
      "[4, 5, 6, 8]\n"
     ]
    }
   ],
   "source": [
    "a_list_of_numbers = [1,2,3,4,5,7]\n",
    "\n",
    "new_list_of_numbers = [x + 1 for x in a_list_of_numbers if x > 2]\n",
    "print(new_list_of_numbers)"
   ]
  },
  {
   "cell_type": "code",
   "execution_count": 18,
   "metadata": {},
   "outputs": [],
   "source": [
    "new_list = []\n",
    "for number in a_list_of_numbers:\n",
    "    if number > 2:\n",
    "        new_list.append(number + 1)"
   ]
  },
  {
   "cell_type": "code",
   "execution_count": 20,
   "metadata": {},
   "outputs": [
    {
     "data": {
      "text/plain": [
       "[4, 5, 6, 8]"
      ]
     },
     "execution_count": 20,
     "metadata": {},
     "output_type": "execute_result"
    }
   ],
   "source": [
    "new_list"
   ]
  },
  {
   "attachments": {},
   "cell_type": "markdown",
   "metadata": {},
   "source": [
    "Lambda Fonksiyonu ve Sıralama İşlemleri"
   ]
  },
  {
   "cell_type": "code",
   "execution_count": 21,
   "metadata": {},
   "outputs": [
    {
     "name": "stdout",
     "output_type": "stream",
     "text": [
      "[('alice', 29, 115000), ('bob', 32, 72000), ('charlie', 25, 95000)]\n",
      "[('bob', 32, 72000), ('alice', 29, 115000), ('charlie', 25, 95000)]\n"
     ]
    }
   ],
   "source": [
    "# Sütunlar = (İsim, Yaş, Maaş)\n",
    "alumni = [('bob',32,72000),\n",
    "          ('alice',29,115000),\n",
    "          ('charlie',25,95000)]\n",
    "\n",
    "print(sorted(alumni)) # Sıralama işlemleri için kullanılan fonksiyon\n",
    "print(alumni)"
   ]
  },
  {
   "cell_type": "code",
   "execution_count": 22,
   "metadata": {},
   "outputs": [
    {
     "name": "stdout",
     "output_type": "stream",
     "text": [
      "[('alice', 29, 115000), ('bob', 32, 72000), ('charlie', 25, 95000)]\n"
     ]
    }
   ],
   "source": [
    "alumni.sort() # sort fonksiyonu sıralamayı orijinal veri üzerinde gerçekleştirdi\n",
    "print(alumni)"
   ]
  },
  {
   "cell_type": "code",
   "execution_count": 23,
   "metadata": {},
   "outputs": [
    {
     "name": "stdout",
     "output_type": "stream",
     "text": [
      "[('charlie', 25, 95000), ('bob', 32, 72000), ('alice', 29, 115000)]\n"
     ]
    }
   ],
   "source": [
    "print(sorted(alumni, reverse=True))"
   ]
  },
  {
   "cell_type": "code",
   "execution_count": 24,
   "metadata": {},
   "outputs": [
    {
     "name": "stdout",
     "output_type": "stream",
     "text": [
      "[('bob', 32, 72000), ('charlie', 25, 95000), ('alice', 29, 115000)]\n"
     ]
    }
   ],
   "source": [
    "print(sorted(alumni, key=lambda row: row[2]))"
   ]
  },
  {
   "cell_type": "code",
   "execution_count": 25,
   "metadata": {},
   "outputs": [
    {
     "data": {
      "text/plain": [
       "[('alice', 29, 115000), ('charlie', 25, 95000), ('bob', 32, 72000)]"
      ]
     },
     "execution_count": 25,
     "metadata": {},
     "output_type": "execute_result"
    }
   ],
   "source": [
    "alumni.sort(key=lambda row: row[2], reverse=True)\n",
    "alumni"
   ]
  },
  {
   "cell_type": "code",
   "execution_count": 26,
   "metadata": {},
   "outputs": [
    {
     "name": "stdout",
     "output_type": "stream",
     "text": [
      "[('bob', 32, 72000), ('charlie', 25, 95000), ('alice', 29, 115000)]\n"
     ]
    }
   ],
   "source": [
    "def get_second_column_of_row(row):\n",
    "    \"\"\"\n",
    "    Satırda bulunan 2. indexe ait değerleri döndürür.\n",
    "    \"\"\"\n",
    "    return row[2]\n",
    "\n",
    "print(sorted(alumni, key=get_second_column_of_row))"
   ]
  },
  {
   "attachments": {},
   "cell_type": "markdown",
   "metadata": {},
   "source": [
    "Hata Mesajları"
   ]
  },
  {
   "cell_type": "code",
   "execution_count": 27,
   "metadata": {},
   "outputs": [
    {
     "ename": "ValueError",
     "evalue": "List should have an even number of elements!",
     "output_type": "error",
     "traceback": [
      "\u001b[1;31m---------------------------------------------------------------------------\u001b[0m",
      "\u001b[1;31mValueError\u001b[0m                                Traceback (most recent call last)",
      "Cell \u001b[1;32mIn[27], line 3\u001b[0m\n\u001b[0;32m      1\u001b[0m class_list \u001b[39m=\u001b[39m [\u001b[39m1\u001b[39m,\u001b[39m2\u001b[39m,\u001b[39m3\u001b[39m]\n\u001b[0;32m      2\u001b[0m \u001b[39mif\u001b[39;00m \u001b[39mlen\u001b[39m(class_list) \u001b[39m%\u001b[39m \u001b[39m2\u001b[39m \u001b[39m!=\u001b[39m \u001b[39m0\u001b[39m:\n\u001b[1;32m----> 3\u001b[0m     \u001b[39mraise\u001b[39;00m \u001b[39mValueError\u001b[39;00m(\u001b[39m\"\u001b[39m\u001b[39mList should have an even number of elements!\u001b[39m\u001b[39m\"\u001b[39m) \u001b[39m# Tanımladığımız hata mesajı\u001b[39;00m\n",
      "\u001b[1;31mValueError\u001b[0m: List should have an even number of elements!"
     ]
    }
   ],
   "source": [
    "class_list = [1,2,3]\n",
    "if len(class_list) % 2 != 0:\n",
    "    raise ValueError(\"List should have an even number of elements!\") # Tanımladığımız hata mesajı"
   ]
  },
  {
   "cell_type": "code",
   "execution_count": 32,
   "metadata": {},
   "outputs": [
    {
     "ename": "AssertionError",
     "evalue": "Input must be a list!",
     "output_type": "error",
     "traceback": [
      "\u001b[1;31m---------------------------------------------------------------------------\u001b[0m",
      "\u001b[1;31mAssertionError\u001b[0m                            Traceback (most recent call last)",
      "Cell \u001b[1;32mIn[32], line 10\u001b[0m\n\u001b[0;32m      7\u001b[0m     \u001b[39massert\u001b[39;00m \u001b[39mtype\u001b[39m(list_to_sum) \u001b[39m==\u001b[39m \u001b[39mlist\u001b[39m, \u001b[39m\"\u001b[39m\u001b[39mInput must be a list!\u001b[39m\u001b[39m\"\u001b[39m\n\u001b[0;32m      8\u001b[0m     \u001b[39mreturn\u001b[39;00m \u001b[39msum\u001b[39m(list_to_sum)\n\u001b[1;32m---> 10\u001b[0m \u001b[39mprint\u001b[39m(sum_up_a_list(\u001b[39m3\u001b[39;49m))\n",
      "Cell \u001b[1;32mIn[32], line 7\u001b[0m, in \u001b[0;36msum_up_a_list\u001b[1;34m(list_to_sum)\u001b[0m\n\u001b[0;32m      2\u001b[0m \u001b[39m\u001b[39m\u001b[39m\"\"\"\u001b[39;00m\n\u001b[0;32m      3\u001b[0m \u001b[39mGirdi olarak bir sayı listesi alır ve liste\u001b[39;00m\n\u001b[0;32m      4\u001b[0m \u001b[39miçerisindeki sayıların toplamını hesaplar.\u001b[39;00m\n\u001b[0;32m      5\u001b[0m \u001b[39m\"\"\"\u001b[39;00m\n\u001b[0;32m      6\u001b[0m \u001b[39m# Girdi olarak verilen değerler list yapısında olsun istiyorum\u001b[39;00m\n\u001b[1;32m----> 7\u001b[0m \u001b[39massert\u001b[39;00m \u001b[39mtype\u001b[39m(list_to_sum) \u001b[39m==\u001b[39m \u001b[39mlist\u001b[39m, \u001b[39m\"\u001b[39m\u001b[39mInput must be a list!\u001b[39m\u001b[39m\"\u001b[39m\n\u001b[0;32m      8\u001b[0m \u001b[39mreturn\u001b[39;00m \u001b[39msum\u001b[39m(list_to_sum)\n",
      "\u001b[1;31mAssertionError\u001b[0m: Input must be a list!"
     ]
    }
   ],
   "source": [
    "def sum_up_a_list(list_to_sum):\n",
    "    \"\"\"\n",
    "    Girdi olarak bir sayı listesi alır ve liste\n",
    "    içerisindeki sayıların toplamını hesaplar.\n",
    "    \"\"\"\n",
    "    # Girdi olarak verilen değerler list yapısında olsun istiyorum\n",
    "    assert type(list_to_sum) == list, \"Input must be a list!\"\n",
    "    return sum(list_to_sum)\n",
    "\n",
    "print(sum_up_a_list(3))"
   ]
  },
  {
   "cell_type": "code",
   "execution_count": 33,
   "metadata": {},
   "outputs": [
    {
     "name": "stdout",
     "output_type": "stream",
     "text": [
      "6\n"
     ]
    }
   ],
   "source": [
    "print(sum_up_a_list([1,2,3]))"
   ]
  },
  {
   "attachments": {},
   "cell_type": "markdown",
   "metadata": {},
   "source": [
    "Try -Except"
   ]
  },
  {
   "cell_type": "code",
   "execution_count": 34,
   "metadata": {},
   "outputs": [
    {
     "name": "stdout",
     "output_type": "stream",
     "text": [
      "Trying to divide\n",
      "\n",
      "Oops, forgot to make it a number\n",
      "0.5\n"
     ]
    }
   ],
   "source": [
    "x = \"1\" # 1 sayısının string versiyonu, bununla matematiksel işlemler gerçekleştirilemez\n",
    "\n",
    "try:\n",
    "    print(\"Trying to divide\")\n",
    "    print(x/2)\n",
    "    print(\"This won't happen because of the error\")\n",
    "    \n",
    "except:\n",
    "    print(\"\\nOops, forgot to make it a number\")\n",
    "    print(int(x)/2)"
   ]
  },
  {
   "cell_type": "code",
   "execution_count": 35,
   "metadata": {},
   "outputs": [
    {
     "name": "stdout",
     "output_type": "stream",
     "text": [
      "¯\\_(ツ)_/¯\n"
     ]
    }
   ],
   "source": [
    "del x # del fonksiyonu tanımladığımız değişkeni tamamen silmemizi sağlar\n",
    "\n",
    "try:\n",
    "    str(x)\n",
    "except:\n",
    "    print(\"¯\\_(ツ)_/¯\")"
   ]
  },
  {
   "attachments": {},
   "cell_type": "markdown",
   "metadata": {},
   "source": [
    "Referans Değerler vs Gerçek Değerler"
   ]
  },
  {
   "cell_type": "code",
   "execution_count": 36,
   "metadata": {},
   "outputs": [
    {
     "name": "stdout",
     "output_type": "stream",
     "text": [
      "[1, 2, 3, 4]\n",
      "[1, 2, 3, 4]\n"
     ]
    }
   ],
   "source": [
    "a = [1,2,3]\n",
    "b = a\n",
    "b.append(4)\n",
    "print(a)\n",
    "print(b)"
   ]
  },
  {
   "cell_type": "code",
   "execution_count": 37,
   "metadata": {},
   "outputs": [
    {
     "name": "stdout",
     "output_type": "stream",
     "text": [
      "[1, 2, 3]\n",
      "[1, 2, 3, 4]\n"
     ]
    }
   ],
   "source": [
    "a = [1,2,3]\n",
    "b = a.copy()\n",
    "b.append(4)\n",
    "\n",
    "print(a)\n",
    "print(b)"
   ]
  },
  {
   "cell_type": "code",
   "execution_count": null,
   "metadata": {},
   "outputs": [],
   "source": []
  }
 ],
 "metadata": {
  "kernelspec": {
   "display_name": "Python 3",
   "language": "python",
   "name": "python3"
  },
  "language_info": {
   "codemirror_mode": {
    "name": "ipython",
    "version": 3
   },
   "file_extension": ".py",
   "mimetype": "text/x-python",
   "name": "python",
   "nbconvert_exporter": "python",
   "pygments_lexer": "ipython3",
   "version": "3.11.1"
  },
  "orig_nbformat": 4
 },
 "nbformat": 4,
 "nbformat_minor": 2
}
